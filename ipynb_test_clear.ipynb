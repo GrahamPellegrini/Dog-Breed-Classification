{
 "cells": [
  {
   "cell_type": "code",
   "execution_count": null,
   "metadata": {
    "execution": {
     "iopub.execute_input": "2024-10-30T09:09:44.256076Z",
     "iopub.status.busy": "2024-10-30T09:09:44.254198Z",
     "iopub.status.idle": "2024-10-30T09:09:44.278553Z",
     "shell.execute_reply": "2024-10-30T09:09:44.276735Z"
    }
   },
   "outputs": [],
   "source": [
    "print(1+1)"
   ]
  },
  {
   "cell_type": "code",
   "execution_count": null,
   "metadata": {
    "execution": {
     "iopub.execute_input": "2024-10-30T09:09:44.316543Z",
     "iopub.status.busy": "2024-10-30T09:09:44.316251Z",
     "iopub.status.idle": "2024-10-30T09:09:45.114157Z",
     "shell.execute_reply": "2024-10-30T09:09:45.113697Z"
    }
   },
   "outputs": [],
   "source": [
    "from matplotlib import pyplot as plt\n",
    "import numpy as np\n",
    "\n",
    "x = np.array(range(-10, 11))\n",
    "y = x**2\n",
    "plt.plot(x, y, '-o')\n",
    "plt.grid()\n",
    "plt.show()"
   ]
  }
 ],
 "metadata": {
  "kernelspec": {
   "display_name": ".venv_cce3207_2",
   "language": "python",
   "name": "python3"
  },
  "language_info": {
   "codemirror_mode": {
    "name": "ipython",
    "version": 3
   },
   "file_extension": ".py",
   "mimetype": "text/x-python",
   "name": "python",
   "nbconvert_exporter": "python",
   "pygments_lexer": "ipython3",
   "version": "3.10.12"
  }
 },
 "nbformat": 4,
 "nbformat_minor": 2
}
