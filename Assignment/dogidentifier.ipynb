{
 "cells": [
  {
   "cell_type": "markdown",
   "metadata": {},
   "source": [
    "# Program to identify dog using assignment model"
   ]
  },
  {
   "cell_type": "code",
   "execution_count": 1,
   "metadata": {
    "execution": {
     "iopub.execute_input": "2025-01-17T22:25:36.680101Z",
     "iopub.status.busy": "2025-01-17T22:25:36.679483Z",
     "iopub.status.idle": "2025-01-17T22:25:42.668937Z",
     "shell.execute_reply": "2025-01-17T22:25:42.668404Z"
    }
   },
   "outputs": [
    {
     "name": "stdout",
     "output_type": "stream",
     "text": [
      "Using GPU: NVIDIA GeForce RTX 3060\n",
      "Device set to: cuda\n",
      "Predicted label: {0: 'n02085620-Chihuahua', 1: 'n02085782-Japanese_spaniel', 2: 'n02085936-Maltese_dog', 3: 'n02086079-Pekinese', 4: 'n02086240-Shih-Tzu', 5: 'n02086646-Blenheim_spaniel', 6: 'n02086910-papillon', 7: 'n02087046-toy_terrier', 8: 'n02087394-Rhodesian_ridgeback', 9: 'n02088094-Afghan_hound', 10: 'n02088238-basset', 11: 'n02088364-beagle', 12: 'n02088466-bloodhound', 13: 'n02088632-bluetick', 14: 'n02089078-black-and-tan_coonhound', 15: 'n02089867-Walker_hound', 16: 'n02089973-English_foxhound', 17: 'n02090379-redbone', 18: 'n02090622-borzoi', 19: 'n02090721-Irish_wolfhound', 20: 'n02091032-Italian_greyhound', 21: 'n02091134-whippet', 22: 'n02091244-Ibizan_hound', 23: 'n02091467-Norwegian_elkhound', 24: 'n02091635-otterhound', 25: 'n02091831-Saluki', 26: 'n02092002-Scottish_deerhound', 27: 'n02092339-Weimaraner', 28: 'n02093256-Staffordshire_bullterrier', 29: 'n02093428-American_Staffordshire_terrier', 30: 'n02093647-Bedlington_terrier', 31: 'n02093754-Border_terrier', 32: 'n02093859-Kerry_blue_terrier', 33: 'n02093991-Irish_terrier', 34: 'n02094114-Norfolk_terrier', 35: 'n02094258-Norwich_terrier', 36: 'n02094433-Yorkshire_terrier', 37: 'n02095314-wire-haired_fox_terrier', 38: 'n02095570-Lakeland_terrier', 39: 'n02095889-Sealyham_terrier', 40: 'n02096051-Airedale', 41: 'n02096177-cairn', 42: 'n02096294-Australian_terrier', 43: 'n02096437-Dandie_Dinmont', 44: 'n02096585-Boston_bull', 45: 'n02097047-miniature_schnauzer', 46: 'n02097130-giant_schnauzer', 47: 'n02097209-standard_schnauzer', 48: 'n02097298-Scotch_terrier', 49: 'n02097474-Tibetan_terrier', 50: 'n02097658-silky_terrier', 51: 'n02098105-soft-coated_wheaten_terrier', 52: 'n02098286-West_Highland_white_terrier', 53: 'n02098413-Lhasa', 54: 'n02099267-flat-coated_retriever', 55: 'n02099429-curly-coated_retriever', 56: 'n02099601-golden_retriever', 57: 'n02099712-Labrador_retriever', 58: 'n02099849-Chesapeake_Bay_retriever', 59: 'n02100236-German_short-haired_pointer', 60: 'n02100583-vizsla', 61: 'n02100735-English_setter', 62: 'n02100877-Irish_setter', 63: 'n02101006-Gordon_setter', 64: 'n02101388-Brittany_spaniel', 65: 'n02101556-clumber', 66: 'n02102040-English_springer', 67: 'n02102177-Welsh_springer_spaniel', 68: 'n02102318-cocker_spaniel', 69: 'n02102480-Sussex_spaniel', 70: 'n02102973-Irish_water_spaniel', 71: 'n02104029-kuvasz', 72: 'n02104365-schipperke', 73: 'n02105056-groenendael', 74: 'n02105162-malinois', 75: 'n02105251-briard', 76: 'n02105412-kelpie', 77: 'n02105505-komondor', 78: 'n02105641-Old_English_sheepdog', 79: 'n02105855-Shetland_sheepdog', 80: 'n02106030-collie', 81: 'n02106166-Border_collie', 82: 'n02106382-Bouvier_des_Flandres', 83: 'n02106550-Rottweiler', 84: 'n02106662-German_shepherd', 85: 'n02107142-Doberman', 86: 'n02107312-miniature_pinscher', 87: 'n02107574-Greater_Swiss_Mountain_dog', 88: 'n02107683-Bernese_mountain_dog', 89: 'n02107908-Appenzeller', 90: 'n02108000-EntleBucher', 91: 'n02108089-boxer', 92: 'n02108422-bull_mastiff', 93: 'n02108551-Tibetan_mastiff', 94: 'n02108915-French_bulldog', 95: 'n02109047-Great_Dane', 96: 'n02109525-Saint_Bernard', 97: 'n02109961-Eskimo_dog', 98: 'n02110063-malamute', 99: 'n02110185-Siberian_husky', 100: 'n02110627-affenpinscher', 101: 'n02110806-basenji', 102: 'n02110958-pug', 103: 'n02111129-Leonberg', 104: 'n02111277-Newfoundland', 105: 'n02111500-Great_Pyrenees', 106: 'n02111889-Samoyed', 107: 'n02112018-Pomeranian', 108: 'n02112137-chow', 109: 'n02112350-keeshond', 110: 'n02112706-Brabancon_griffon', 111: 'n02113023-Pembroke', 112: 'n02113186-Cardigan', 113: 'n02113624-toy_poodle', 114: 'n02113712-miniature_poodle', 115: 'n02113799-standard_poodle', 116: 'n02113978-Mexican_hairless', 117: 'n02115641-dingo', 118: 'n02115913-dhole', 119: 'n02116738-African_hunting_dog'}\n"
     ]
    }
   ],
   "source": [
    "import torch\n",
    "from PIL import Image\n",
    "import torchvision.models as torchmodels\n",
    "import torch.nn as nn\n",
    "from torchvision import transforms\n",
    "\n",
    "# Check if GPU is available and set the device\n",
    "if torch.cuda.is_available():\n",
    "    print(f\"Using GPU: {torch.cuda.get_device_name(0)}\")\n",
    "    device = torch.device(\"cuda\")\n",
    "else:\n",
    "    print(\"No GPU available, using CPU\")\n",
    "    device = torch.device(\"cpu\")\n",
    "\n",
    "# Check if the device is set correctly\n",
    "print(f\"Device set to: {device}\")\n",
    "\n",
    "def predict(image_path, model, label_dict):\n",
    "    # Load the model to the device\n",
    "    model.to(device)\n",
    "\n",
    "    # Set the model to evaluation mode\n",
    "    model.eval()\n",
    "\n",
    "    # Load the image\n",
    "    image = Image.open(image_path)\n",
    "\n",
    "    # Define the transformations for the image\n",
    "    transform = transforms.Compose([\n",
    "        transforms.Resize((224, 224)),\n",
    "        transforms.ToTensor(),\n",
    "        transforms.Normalize(mean=[0.485, 0.456, 0.406], std=[0.229, 0.224, 0.225])\n",
    "    ])\n",
    "\n",
    "    # Apply the transformations to the image\n",
    "    image = transform(image).unsqueeze(0)\n",
    "\n",
    "    # Load the image to the device\n",
    "    image = image.to(device)\n",
    "\n",
    "    # Perform the prediction\n",
    "    with torch.no_grad():\n",
    "        output = model(image)\n",
    "\n",
    "    # Get the predicted class\n",
    "    _, predicted = torch.max(output, 1)\n",
    "\n",
    "    # Get the predicted class label\n",
    "    predicted_label = label_dict[predicted.item()]\n",
    "\n",
    "    return predicted_label\n",
    "\n",
    "# Model path to be loaded \n",
    "model_path = 'Model/VGG16/vgg16-2-model-best.pth'\n",
    "\n",
    "# Image path to be predicted\n",
    "image_path = 'jack_dog.jpg'\n",
    "\n",
    "# Open the label file and load the labels\n",
    "with open('label_dict.txt', 'r') as f:\n",
    "    label_dict = {i: line.strip() for i, line in enumerate(f.readlines())}\n",
    "\n",
    "# Define the model architecture\n",
    "model = torchmodels.vgg16_bn(weights=None)\n",
    "num_classes = len(label_dict)\n",
    "model.classifier[6] = nn.Linear(4096, num_classes)  # Adjust the final layer to match the number of classes\n",
    "\n",
    "# Load the state dictionary into the model, excluding the final layer\n",
    "checkpoint = torch.load(model_path)\n",
    "state_dict = checkpoint['model_state_dict']\n",
    "state_dict.pop('classifier.6.weight')\n",
    "state_dict.pop('classifier.6.bias')\n",
    "model.load_state_dict(state_dict, strict=False)\n",
    "\n",
    "# Predict the image\n",
    "predicted_label = predict(image_path, model, label_dict)\n",
    "print(f\"Predicted label: {predicted_label}\")"
   ]
  }
 ],
 "metadata": {
  "kernelspec": {
   "display_name": "cce3207-venv",
   "language": "python",
   "name": "python3"
  },
  "language_info": {
   "codemirror_mode": {
    "name": "ipython",
    "version": 3
   },
   "file_extension": ".py",
   "mimetype": "text/x-python",
   "name": "python",
   "nbconvert_exporter": "python",
   "pygments_lexer": "ipython3",
   "version": "3.10.12"
  }
 },
 "nbformat": 4,
 "nbformat_minor": 2
}
